{
 "cells": [
  {
   "cell_type": "code",
   "execution_count": 1,
   "metadata": {},
   "outputs": [
    {
     "data": {
      "text/html": [
       "<style>.container { width:100% !important; }</style>"
      ],
      "text/plain": [
       "<IPython.core.display.HTML object>"
      ]
     },
     "metadata": {},
     "output_type": "display_data"
    }
   ],
   "source": [
    "from IPython.display import display, HTML\n",
    "display(HTML(\"<style>.container { width:100% !important; }</style>\"))"
   ]
  },
  {
   "cell_type": "code",
   "execution_count": 1,
   "metadata": {},
   "outputs": [],
   "source": [
    "import pickle\n",
    "import os\n",
    "from smart_open import open\n",
    "import smart_open\n",
    "import numpy as np\n",
    "import random\n",
    "import torch\n",
    "import itertools\n",
    "from tqdm import tqdm\n",
    "from coatiLDM.common.utils import utc_epoch_now, batch_iterable, tanimoto_distance_torch\n",
    "import rdkit\n",
    "from rdkit import Chem\n",
    "from rdkit.Chem.Crippen import MolLogP\n",
    "from rdkit.Chem import Draw\n",
    "from coatiLDM.common.utils import mol_to_morgan\n",
    "from coatiLDM.common.s3 import load_figure_file\n"
   ]
  },
  {
   "cell_type": "code",
   "execution_count": 3,
   "metadata": {},
   "outputs": [],
   "source": [
    "base_path = './figure_data/gen_comparison_data/'"
   ]
  },
  {
   "cell_type": "markdown",
   "metadata": {},
   "source": [
    "## Get Walters"
   ]
  },
  {
   "cell_type": "code",
   "execution_count": 5,
   "metadata": {},
   "outputs": [],
   "source": [
    "walters_data = load_figure_file('walters_hcaii.pkl', base_path,filetype='pkl')\n",
    "walters_stacked = torch.from_numpy(np.stack([r['morgan'] for r in walters_data])).to(dtype=torch.float)"
   ]
  },
  {
   "cell_type": "markdown",
   "metadata": {},
   "source": [
    "# Eval Methods"
   ]
  },
  {
   "cell_type": "code",
   "execution_count": 5,
   "metadata": {},
   "outputs": [],
   "source": [
    "import torch\n",
    "\n",
    "from collections import defaultdict\n",
    "\n",
    "\n",
    "from coatiLDM.common.utils import batch_iterable\n",
    "\n",
    "def _eval_on_recs(_eval_recs, _test_stacked, cutoffs=None, prefix='', stack_field='morgan', batch_size=100_000):\n",
    "    if cutoffs is None:\n",
    "        cutoffs = (np.arange(0, 9)+1)/10\n",
    "    \n",
    "    # test_stacked = torch.from_numpy(test_stacked)\n",
    "\n",
    "    cutoff_fields = {ct: f'{prefix}neighbors_>={ct}' for ct in cutoffs}\n",
    "    test_coverage = defaultdict(set)\n",
    "    \n",
    "    for _batch in tqdm(batch_iterable(_eval_recs, batch_size), total=-(len(_eval_recs) // -batch_size)):\n",
    "        mask = torch.tensor([True if (stack_field in r) and (r[stack_field] is not None) else False for r in _batch])\n",
    "        mask_indices = np.where(mask)[0]\n",
    "        stacked_batch = torch.stack([torch.from_numpy(r[stack_field]) for r, msk in zip(_batch, mask)]).to(torch.float)\n",
    "        print(stacked_batch.sum(axis=1))\n",
    "        dists = tanimoto_distance_torch(stacked_batch, _test_stacked)\n",
    "        \n",
    "        sims = 1 - dists\n",
    "    \n",
    "        assert sims.shape[0] == len(stacked_batch)\n",
    "        assert sims.shape[1] == len(_test_stacked)\n",
    "        \n",
    "        \n",
    "        for cutoff in cutoffs:\n",
    "            _matches = (sims>=cutoff)\n",
    "            _neighbors = _matches.sum(axis=1)\n",
    "            \n",
    "            _match_idx_map = {m: np.where(_matches[m, :])[0] for m in range(len(stacked_batch))}\n",
    "            \n",
    "            \n",
    "            for n_idx in torch.arange(len(_test_stacked))[\n",
    "                ((sims>=cutoff).sum(axis=0)>0).cpu()\n",
    "            ].detach().tolist():\n",
    "                assert isinstance(n_idx, int)\n",
    "                test_coverage[cutoff].add(n_idx)\n",
    "            \n",
    "            neighbors = torch.zeros(len(mask) ,dtype=_neighbors.dtype)\n",
    "            neighbors[mask]=_neighbors\n",
    "            \n",
    "            # Extract the original indices that were True in the mask\n",
    "\n",
    "\n",
    "            # Map these original indices to their corresponding values\n",
    "            match_idx_map = {original_index: _match_idx_map[i] for i, original_index in enumerate(mask_indices)}\n",
    "\n",
    "            for _idx, r in enumerate(_batch):\n",
    "                r[cutoff_fields[cutoff]] = neighbors[_idx].cpu().tolist()\n",
    "                if _idx in match_idx_map:\n",
    "                    r[cutoff_fields[cutoff]+'_indices'] = match_idx_map[_idx]\n",
    "    \n",
    "\n",
    "    test_coverage_percents = {\n",
    "        k: len(test_coverage[k]) / len(_test_stacked) if k in test_coverage else 0\n",
    "        for k in cutoffs\n",
    "    }\n",
    "    \n",
    "        \n",
    "            \n",
    "    return cutoff_fields, test_coverage_percents"
   ]
  },
  {
   "cell_type": "markdown",
   "metadata": {},
   "source": [
    "### Copy underlying data to one construct"
   ]
  },
  {
   "cell_type": "code",
   "execution_count": 20,
   "metadata": {},
   "outputs": [],
   "source": [
    "all_model_data = load_figure_file('all_model_data.pkl', base_path,filetype='pkl')\n"
   ]
  },
  {
   "cell_type": "code",
   "execution_count": 8,
   "metadata": {},
   "outputs": [],
   "source": [
    "test_set = all_model_data['test']"
   ]
  },
  {
   "cell_type": "code",
   "execution_count": 9,
   "metadata": {},
   "outputs": [],
   "source": [
    "results_dict = defaultdict(lambda: defaultdict(lambda: defaultdict(dict)))"
   ]
  },
  {
   "cell_type": "markdown",
   "metadata": {},
   "source": [
    "## Find coverage"
   ]
  },
  {
   "cell_type": "markdown",
   "metadata": {},
   "source": [
    "This will take a bit..."
   ]
  },
  {
   "cell_type": "code",
   "execution_count": 10,
   "metadata": {},
   "outputs": [
    {
     "name": "stdout",
     "output_type": "stream",
     "text": [
      "['CG-20-50k', 'QED-and-CG-20', 'CFG-50k', 'Genetic A', 'Genetic B', 'Genetic D', 'test', 'train', 'Genetic C']\n"
     ]
    },
    {
     "name": "stderr",
     "output_type": "stream",
     "text": [
      "  0%|          | 0/1 [00:00<?, ?it/s]"
     ]
    },
    {
     "name": "stdout",
     "output_type": "stream",
     "text": [
      "tensor([55., 76., 55.,  ..., 72., 21., 46.])\n"
     ]
    },
    {
     "name": "stderr",
     "output_type": "stream",
     "text": [
      "/home/benk/diff_pub/lib/python3.10/site-packages/coatiLDM/common/utils.py:82: UserWarning: To copy construct from a tensor, it is recommended to use sourceTensor.clone().detach() or sourceTensor.clone().detach().requires_grad_(True), rather than torch.tensor(sourceTensor).\n",
      "  A = torch.tensor(A, dtype=torch.float32).to(B.device)\n",
      "100%|██████████| 1/1 [01:27<00:00, 87.55s/it]\n",
      "  0%|          | 0/1 [00:00<?, ?it/s]"
     ]
    },
    {
     "name": "stdout",
     "output_type": "stream",
     "text": [
      "tensor([43., 42., 56.,  ..., 64., 50., 46.])\n"
     ]
    },
    {
     "name": "stderr",
     "output_type": "stream",
     "text": [
      "100%|██████████| 1/1 [01:44<00:00, 104.72s/it]\n",
      "  0%|          | 0/1 [00:00<?, ?it/s]"
     ]
    },
    {
     "name": "stdout",
     "output_type": "stream",
     "text": [
      "tensor([92., 68., 78.,  ..., 62., 65., 47.])\n"
     ]
    },
    {
     "name": "stderr",
     "output_type": "stream",
     "text": [
      "100%|██████████| 1/1 [01:38<00:00, 98.54s/it]\n",
      "  0%|          | 0/1 [00:00<?, ?it/s]"
     ]
    },
    {
     "name": "stdout",
     "output_type": "stream",
     "text": [
      "tensor([ 75.,  81.,  83.,  ..., 102.,  81., 105.])\n"
     ]
    },
    {
     "name": "stderr",
     "output_type": "stream",
     "text": [
      "100%|██████████| 1/1 [01:41<00:00, 101.68s/it]\n",
      "  0%|          | 0/1 [00:00<?, ?it/s]"
     ]
    },
    {
     "name": "stdout",
     "output_type": "stream",
     "text": [
      "tensor([78., 57., 85.,  ..., 81., 75., 79.])\n"
     ]
    },
    {
     "name": "stderr",
     "output_type": "stream",
     "text": [
      "100%|██████████| 1/1 [01:36<00:00, 96.82s/it]\n",
      "  0%|          | 0/1 [00:00<?, ?it/s]"
     ]
    },
    {
     "name": "stdout",
     "output_type": "stream",
     "text": [
      "tensor([47., 48., 46.,  ..., 46., 49., 46.])\n"
     ]
    },
    {
     "name": "stderr",
     "output_type": "stream",
     "text": [
      "100%|██████████| 1/1 [01:33<00:00, 93.31s/it]\n",
      "  0%|          | 0/1 [00:00<?, ?it/s]"
     ]
    },
    {
     "name": "stdout",
     "output_type": "stream",
     "text": [
      "tensor([ 61., 102.,  60.,  ...,  87.,  59.,  73.])\n"
     ]
    },
    {
     "name": "stderr",
     "output_type": "stream",
     "text": [
      "100%|██████████| 1/1 [00:50<00:00, 50.22s/it]\n",
      "  0%|          | 0/5 [00:00<?, ?it/s]"
     ]
    },
    {
     "name": "stdout",
     "output_type": "stream",
     "text": [
      "tensor([57., 86., 70.,  ..., 68., 94., 96.])\n"
     ]
    },
    {
     "name": "stderr",
     "output_type": "stream",
     "text": [
      " 20%|██        | 1/5 [03:17<13:08, 197.21s/it]"
     ]
    },
    {
     "name": "stdout",
     "output_type": "stream",
     "text": [
      "tensor([86., 55., 64.,  ..., 68., 66., 51.])\n"
     ]
    },
    {
     "name": "stderr",
     "output_type": "stream",
     "text": [
      " 40%|████      | 2/5 [06:42<10:06, 202.06s/it]"
     ]
    },
    {
     "name": "stdout",
     "output_type": "stream",
     "text": [
      "tensor([66., 70., 74.,  ..., 48., 83., 75.])\n"
     ]
    },
    {
     "name": "stderr",
     "output_type": "stream",
     "text": [
      " 60%|██████    | 3/5 [10:05<06:44, 202.26s/it]"
     ]
    },
    {
     "name": "stdout",
     "output_type": "stream",
     "text": [
      "tensor([52., 77., 69.,  ..., 57., 65., 57.])\n"
     ]
    },
    {
     "name": "stderr",
     "output_type": "stream",
     "text": [
      " 80%|████████  | 4/5 [13:33<03:24, 204.60s/it]"
     ]
    },
    {
     "name": "stdout",
     "output_type": "stream",
     "text": [
      "tensor([72., 64., 72.,  ..., 67., 67., 75.])\n"
     ]
    },
    {
     "name": "stderr",
     "output_type": "stream",
     "text": [
      "100%|██████████| 5/5 [16:13<00:00, 194.69s/it]\n",
      "  0%|          | 0/1 [00:00<?, ?it/s]"
     ]
    },
    {
     "name": "stdout",
     "output_type": "stream",
     "text": [
      "tensor([53., 74., 57.,  ..., 85., 89., 73.])\n"
     ]
    },
    {
     "name": "stderr",
     "output_type": "stream",
     "text": [
      "100%|██████████| 1/1 [01:38<00:00, 98.96s/it]\n",
      "  0%|          | 0/1 [00:00<?, ?it/s]"
     ]
    },
    {
     "name": "stdout",
     "output_type": "stream",
     "text": [
      "tensor([55., 76., 55.,  ..., 72., 21., 46.])\n"
     ]
    },
    {
     "name": "stderr",
     "output_type": "stream",
     "text": [
      "100%|██████████| 1/1 [00:27<00:00, 27.49s/it]\n",
      "  0%|          | 0/1 [00:00<?, ?it/s]"
     ]
    },
    {
     "name": "stdout",
     "output_type": "stream",
     "text": [
      "tensor([43., 42., 56.,  ..., 64., 50., 46.])\n"
     ]
    },
    {
     "name": "stderr",
     "output_type": "stream",
     "text": [
      "100%|██████████| 1/1 [00:31<00:00, 31.72s/it]\n",
      "  0%|          | 0/1 [00:00<?, ?it/s]"
     ]
    },
    {
     "name": "stdout",
     "output_type": "stream",
     "text": [
      "tensor([92., 68., 78.,  ..., 62., 65., 47.])\n"
     ]
    },
    {
     "name": "stderr",
     "output_type": "stream",
     "text": [
      "100%|██████████| 1/1 [00:29<00:00, 29.94s/it]\n",
      "  0%|          | 0/1 [00:00<?, ?it/s]"
     ]
    },
    {
     "name": "stdout",
     "output_type": "stream",
     "text": [
      "tensor([ 75.,  81.,  83.,  ..., 102.,  81., 105.])\n"
     ]
    },
    {
     "name": "stderr",
     "output_type": "stream",
     "text": [
      "100%|██████████| 1/1 [00:31<00:00, 31.30s/it]\n",
      "  0%|          | 0/1 [00:00<?, ?it/s]"
     ]
    },
    {
     "name": "stdout",
     "output_type": "stream",
     "text": [
      "tensor([78., 57., 85.,  ..., 81., 75., 79.])\n"
     ]
    },
    {
     "name": "stderr",
     "output_type": "stream",
     "text": [
      "100%|██████████| 1/1 [00:31<00:00, 31.16s/it]\n",
      "  0%|          | 0/1 [00:00<?, ?it/s]"
     ]
    },
    {
     "name": "stdout",
     "output_type": "stream",
     "text": [
      "tensor([47., 48., 46.,  ..., 46., 49., 46.])\n"
     ]
    },
    {
     "name": "stderr",
     "output_type": "stream",
     "text": [
      "100%|██████████| 1/1 [00:31<00:00, 31.33s/it]\n",
      "  0%|          | 0/1 [00:00<?, ?it/s]"
     ]
    },
    {
     "name": "stdout",
     "output_type": "stream",
     "text": [
      "tensor([ 61., 102.,  60.,  ...,  87.,  59.,  73.])\n"
     ]
    },
    {
     "name": "stderr",
     "output_type": "stream",
     "text": [
      "100%|██████████| 1/1 [00:15<00:00, 15.80s/it]\n",
      "  0%|          | 0/5 [00:00<?, ?it/s]"
     ]
    },
    {
     "name": "stdout",
     "output_type": "stream",
     "text": [
      "tensor([57., 86., 70.,  ..., 68., 94., 96.])\n"
     ]
    },
    {
     "name": "stderr",
     "output_type": "stream",
     "text": [
      " 20%|██        | 1/5 [01:03<04:12, 63.09s/it]"
     ]
    },
    {
     "name": "stdout",
     "output_type": "stream",
     "text": [
      "tensor([86., 55., 64.,  ..., 68., 66., 51.])\n"
     ]
    },
    {
     "name": "stderr",
     "output_type": "stream",
     "text": [
      " 40%|████      | 2/5 [02:06<03:09, 63.21s/it]"
     ]
    },
    {
     "name": "stdout",
     "output_type": "stream",
     "text": [
      "tensor([66., 70., 74.,  ..., 48., 83., 75.])\n"
     ]
    },
    {
     "name": "stderr",
     "output_type": "stream",
     "text": [
      " 60%|██████    | 3/5 [03:09<02:06, 63.38s/it]"
     ]
    },
    {
     "name": "stdout",
     "output_type": "stream",
     "text": [
      "tensor([52., 77., 69.,  ..., 57., 65., 57.])\n"
     ]
    },
    {
     "name": "stderr",
     "output_type": "stream",
     "text": [
      " 80%|████████  | 4/5 [04:12<01:03, 63.07s/it]"
     ]
    },
    {
     "name": "stdout",
     "output_type": "stream",
     "text": [
      "tensor([72., 64., 72.,  ..., 67., 67., 75.])\n"
     ]
    },
    {
     "name": "stderr",
     "output_type": "stream",
     "text": [
      "100%|██████████| 5/5 [05:00<00:00, 60.18s/it]\n",
      "  0%|          | 0/1 [00:00<?, ?it/s]"
     ]
    },
    {
     "name": "stdout",
     "output_type": "stream",
     "text": [
      "tensor([53., 74., 57.,  ..., 85., 89., 73.])\n"
     ]
    },
    {
     "name": "stderr",
     "output_type": "stream",
     "text": [
      "100%|██████████| 1/1 [00:31<00:00, 31.27s/it]\n"
     ]
    }
   ],
   "source": [
    "import pandas as pd\n",
    "from collections import defaultdict\n",
    "\n",
    "result_recs = []\n",
    "desired_models = list(all_model_data)\n",
    "desired_models = [model_name for model_name in all_model_data if '__' not in model_name]\n",
    "print(desired_models)\n",
    "\n",
    "\n",
    "all_test_data = {\n",
    "    'test': test_set,\n",
    "    'walters': walters_data,\n",
    "}\n",
    "stack_field = 'morgan'\n",
    "neighbor_vals = [1]\n",
    "\n",
    "existing_models = defaultdict(set)\n",
    "for t in results_dict:\n",
    "    for c in results_dict[t]:\n",
    "        for m in results_dict[t][c]:\n",
    "            existing_models[m].add(t)\n",
    "\n",
    "for test_name in all_test_data:\n",
    "    test_prefix = test_name + '_'\n",
    "    _test_data = all_test_data[test_name]\n",
    "    _stacked_test = torch.from_numpy(np.stack([r[stack_field] for r in _test_data])).to(dtype=torch.float)\n",
    "    for model_name in desired_models:\n",
    "        if model_name in existing_models and test_name in existing_models[model_name]:\n",
    "            print(f'Skipping {test_name} {model_name}')\n",
    "#             continue\n",
    "       \n",
    "        model_data = all_model_data[model_name]\n",
    "        \n",
    "        if '__' in model_name:\n",
    "            _model_name, rep = model_name.split('__')\n",
    "        else:\n",
    "            _model_name, rep = model_name, 0\n",
    "        \n",
    "        \n",
    "\n",
    "\n",
    "        for r in model_data:\n",
    "            if 'morgan' not in r:\n",
    "                r['morgan'] = mol_to_morgan(r['smiles'])\n",
    "\n",
    "        cutoff_fields, test_coverage = _eval_on_recs(model_data, _stacked_test, prefix=test_prefix)\n",
    "        \n",
    "        for cutoff in cutoff_fields:\n",
    "            cutoff_field = cutoff_fields[cutoff]\n",
    "\n",
    "            values = np.array([r[cutoff_field] for r in model_data])\n",
    "            for n_neighbor in neighbor_vals:\n",
    "                \n",
    "                \n",
    "                result_info = {\n",
    "                    'test_name': test_name,\n",
    "                    'model_name': _model_name,\n",
    "                    'repetition': rep,\n",
    "                    'tanimoto_cutoff': cutoff,\n",
    "                    'gt_n_neighbors': n_neighbor,\n",
    "                    'gt_n_neighbors_proportion': len(values[values>=n_neighbor]) / len(values),\n",
    "                    'model_data_size': len(model_data),\n",
    "                    'test_data_size': len(_test_data),\n",
    "                    'test_coverage': test_coverage[cutoff],\n",
    "                }\n",
    "                \n",
    "                results_dict[test_name][cutoff][_model_name][rep] = result_info\n"
   ]
  },
  {
   "cell_type": "code",
   "execution_count": 14,
   "metadata": {},
   "outputs": [
    {
     "data": {
      "text/html": [
       "<div>\n",
       "<style scoped>\n",
       "    .dataframe tbody tr th:only-of-type {\n",
       "        vertical-align: middle;\n",
       "    }\n",
       "\n",
       "    .dataframe tbody tr th {\n",
       "        vertical-align: top;\n",
       "    }\n",
       "\n",
       "    .dataframe thead th {\n",
       "        text-align: right;\n",
       "    }\n",
       "</style>\n",
       "<table border=\"1\" class=\"dataframe\">\n",
       "  <thead>\n",
       "    <tr style=\"text-align: right;\">\n",
       "      <th></th>\n",
       "      <th>test_name</th>\n",
       "      <th>model_name</th>\n",
       "      <th>repetition</th>\n",
       "      <th>tanimoto_cutoff</th>\n",
       "      <th>gt_n_neighbors</th>\n",
       "      <th>gt_n_neighbors_proportion</th>\n",
       "      <th>model_data_size</th>\n",
       "      <th>test_data_size</th>\n",
       "      <th>test_coverage</th>\n",
       "    </tr>\n",
       "  </thead>\n",
       "  <tbody>\n",
       "    <tr>\n",
       "      <th>0</th>\n",
       "      <td>test</td>\n",
       "      <td>CG-20-50k</td>\n",
       "      <td>0</td>\n",
       "      <td>0.1</td>\n",
       "      <td>1</td>\n",
       "      <td>0.999908</td>\n",
       "      <td>43536</td>\n",
       "      <td>25007</td>\n",
       "      <td>1.000000</td>\n",
       "    </tr>\n",
       "    <tr>\n",
       "      <th>1</th>\n",
       "      <td>test</td>\n",
       "      <td>QED-and-CG-20</td>\n",
       "      <td>0</td>\n",
       "      <td>0.1</td>\n",
       "      <td>1</td>\n",
       "      <td>0.999980</td>\n",
       "      <td>50400</td>\n",
       "      <td>25007</td>\n",
       "      <td>1.000000</td>\n",
       "    </tr>\n",
       "    <tr>\n",
       "      <th>2</th>\n",
       "      <td>test</td>\n",
       "      <td>CFG-50k</td>\n",
       "      <td>0</td>\n",
       "      <td>0.1</td>\n",
       "      <td>1</td>\n",
       "      <td>0.999937</td>\n",
       "      <td>47758</td>\n",
       "      <td>25007</td>\n",
       "      <td>1.000000</td>\n",
       "    </tr>\n",
       "    <tr>\n",
       "      <th>3</th>\n",
       "      <td>test</td>\n",
       "      <td>Genetic A</td>\n",
       "      <td>0</td>\n",
       "      <td>0.1</td>\n",
       "      <td>1</td>\n",
       "      <td>1.000000</td>\n",
       "      <td>50000</td>\n",
       "      <td>25007</td>\n",
       "      <td>1.000000</td>\n",
       "    </tr>\n",
       "    <tr>\n",
       "      <th>4</th>\n",
       "      <td>test</td>\n",
       "      <td>Genetic B</td>\n",
       "      <td>0</td>\n",
       "      <td>0.1</td>\n",
       "      <td>1</td>\n",
       "      <td>1.000000</td>\n",
       "      <td>50000</td>\n",
       "      <td>25007</td>\n",
       "      <td>1.000000</td>\n",
       "    </tr>\n",
       "    <tr>\n",
       "      <th>...</th>\n",
       "      <td>...</td>\n",
       "      <td>...</td>\n",
       "      <td>...</td>\n",
       "      <td>...</td>\n",
       "      <td>...</td>\n",
       "      <td>...</td>\n",
       "      <td>...</td>\n",
       "      <td>...</td>\n",
       "      <td>...</td>\n",
       "    </tr>\n",
       "    <tr>\n",
       "      <th>157</th>\n",
       "      <td>walters</td>\n",
       "      <td>Genetic B</td>\n",
       "      <td>0</td>\n",
       "      <td>0.9</td>\n",
       "      <td>1</td>\n",
       "      <td>0.000000</td>\n",
       "      <td>50000</td>\n",
       "      <td>544</td>\n",
       "      <td>0.000000</td>\n",
       "    </tr>\n",
       "    <tr>\n",
       "      <th>158</th>\n",
       "      <td>walters</td>\n",
       "      <td>Genetic D</td>\n",
       "      <td>0</td>\n",
       "      <td>0.9</td>\n",
       "      <td>1</td>\n",
       "      <td>0.000000</td>\n",
       "      <td>50000</td>\n",
       "      <td>544</td>\n",
       "      <td>0.000000</td>\n",
       "    </tr>\n",
       "    <tr>\n",
       "      <th>159</th>\n",
       "      <td>walters</td>\n",
       "      <td>test</td>\n",
       "      <td>0</td>\n",
       "      <td>0.9</td>\n",
       "      <td>1</td>\n",
       "      <td>0.000000</td>\n",
       "      <td>25007</td>\n",
       "      <td>544</td>\n",
       "      <td>0.000000</td>\n",
       "    </tr>\n",
       "    <tr>\n",
       "      <th>160</th>\n",
       "      <td>walters</td>\n",
       "      <td>train</td>\n",
       "      <td>0</td>\n",
       "      <td>0.9</td>\n",
       "      <td>1</td>\n",
       "      <td>0.000000</td>\n",
       "      <td>476810</td>\n",
       "      <td>544</td>\n",
       "      <td>0.000000</td>\n",
       "    </tr>\n",
       "    <tr>\n",
       "      <th>161</th>\n",
       "      <td>walters</td>\n",
       "      <td>Genetic C</td>\n",
       "      <td>0</td>\n",
       "      <td>0.9</td>\n",
       "      <td>1</td>\n",
       "      <td>0.000020</td>\n",
       "      <td>50000</td>\n",
       "      <td>544</td>\n",
       "      <td>0.001838</td>\n",
       "    </tr>\n",
       "  </tbody>\n",
       "</table>\n",
       "<p>162 rows × 9 columns</p>\n",
       "</div>"
      ],
      "text/plain": [
       "    test_name     model_name  repetition  tanimoto_cutoff  gt_n_neighbors  \\\n",
       "0        test      CG-20-50k           0              0.1               1   \n",
       "1        test  QED-and-CG-20           0              0.1               1   \n",
       "2        test        CFG-50k           0              0.1               1   \n",
       "3        test      Genetic A           0              0.1               1   \n",
       "4        test      Genetic B           0              0.1               1   \n",
       "..        ...            ...         ...              ...             ...   \n",
       "157   walters      Genetic B           0              0.9               1   \n",
       "158   walters      Genetic D           0              0.9               1   \n",
       "159   walters           test           0              0.9               1   \n",
       "160   walters          train           0              0.9               1   \n",
       "161   walters      Genetic C           0              0.9               1   \n",
       "\n",
       "     gt_n_neighbors_proportion  model_data_size  test_data_size  test_coverage  \n",
       "0                     0.999908            43536           25007       1.000000  \n",
       "1                     0.999980            50400           25007       1.000000  \n",
       "2                     0.999937            47758           25007       1.000000  \n",
       "3                     1.000000            50000           25007       1.000000  \n",
       "4                     1.000000            50000           25007       1.000000  \n",
       "..                         ...              ...             ...            ...  \n",
       "157                   0.000000            50000             544       0.000000  \n",
       "158                   0.000000            50000             544       0.000000  \n",
       "159                   0.000000            25007             544       0.000000  \n",
       "160                   0.000000           476810             544       0.000000  \n",
       "161                   0.000020            50000             544       0.001838  \n",
       "\n",
       "[162 rows x 9 columns]"
      ]
     },
     "execution_count": 14,
     "metadata": {},
     "output_type": "execute_result"
    }
   ],
   "source": [
    "import pandas as pd\n",
    "\n",
    "result_recs = [\n",
    "    results_dict[t][c][m][r]\n",
    "    for t in results_dict\n",
    "    for c in results_dict[t]\n",
    "    for m in results_dict[t][c]\n",
    "    for r in results_dict[t][c][m]\n",
    "]\n",
    "\n",
    "_res_df = pd.DataFrame(result_recs)\n",
    "_res_df"
   ]
  },
  {
   "cell_type": "markdown",
   "metadata": {},
   "source": [
    "## Results Table"
   ]
  },
  {
   "cell_type": "code",
   "execution_count": 15,
   "metadata": {},
   "outputs": [],
   "source": [
    "import pandas as pd\n",
    "\n",
    "# Set new Pandas display settings to avoid truncation\n",
    "pd.set_option('display.max_columns', None)\n",
    "pd.set_option('display.max_colwidth', 100)\n",
    "pd.set_option('display.max_rows', 100)"
   ]
  },
  {
   "cell_type": "code",
   "execution_count": 16,
   "metadata": {},
   "outputs": [
    {
     "name": "stdout",
     "output_type": "stream",
     "text": [
      "['hCAII Train', 'CFG', 'CG', 'CG w/ Joint QED', 'Genetic', 'Genetic w/ QED Cutoff', 'Genetic w/ Joint QED']\n"
     ]
    },
    {
     "data": {
      "text/html": [
       "<div>\n",
       "<style scoped>\n",
       "    .dataframe tbody tr th:only-of-type {\n",
       "        vertical-align: middle;\n",
       "    }\n",
       "\n",
       "    .dataframe tbody tr th {\n",
       "        vertical-align: top;\n",
       "    }\n",
       "\n",
       "    .dataframe thead th {\n",
       "        text-align: right;\n",
       "    }\n",
       "</style>\n",
       "<table border=\"1\" class=\"dataframe\">\n",
       "  <thead>\n",
       "    <tr style=\"text-align: right;\">\n",
       "      <th>Model</th>\n",
       "      <th>Partition</th>\n",
       "      <th>Tanimoto Cutoff</th>\n",
       "      <th>hCAII Train</th>\n",
       "      <th>CFG</th>\n",
       "      <th>CG</th>\n",
       "      <th>CG w/ Joint QED</th>\n",
       "      <th>Genetic</th>\n",
       "      <th>Genetic w/ QED Cutoff</th>\n",
       "      <th>Genetic w/ Joint QED</th>\n",
       "    </tr>\n",
       "  </thead>\n",
       "  <tbody>\n",
       "    <tr>\n",
       "      <th>0</th>\n",
       "      <td>Binding Hits</td>\n",
       "      <td>0.5</td>\n",
       "      <td>99.6</td>\n",
       "      <td>\\textbf{{42.7}}</td>\n",
       "      <td>5.6</td>\n",
       "      <td>10.9</td>\n",
       "      <td>0.9</td>\n",
       "      <td>1.4</td>\n",
       "      <td>1.5</td>\n",
       "    </tr>\n",
       "    <tr>\n",
       "      <th>1</th>\n",
       "      <td></td>\n",
       "      <td>0.6</td>\n",
       "      <td>75.7</td>\n",
       "      <td>\\textbf{{15.3}}</td>\n",
       "      <td>0.9</td>\n",
       "      <td>2.1</td>\n",
       "      <td>0.1</td>\n",
       "      <td>0.2</td>\n",
       "      <td>0.2</td>\n",
       "    </tr>\n",
       "    <tr>\n",
       "      <th>2</th>\n",
       "      <td></td>\n",
       "      <td>0.7</td>\n",
       "      <td>28.6</td>\n",
       "      <td>\\textbf{{4.3}}</td>\n",
       "      <td>0.1</td>\n",
       "      <td>0.3</td>\n",
       "      <td>0</td>\n",
       "      <td>0</td>\n",
       "      <td>0</td>\n",
       "    </tr>\n",
       "    <tr>\n",
       "      <th>3</th>\n",
       "      <td>Public Hits</td>\n",
       "      <td>0.5</td>\n",
       "      <td>0.6</td>\n",
       "      <td>1.1</td>\n",
       "      <td>6.1</td>\n",
       "      <td>\\textbf{{15.1}}</td>\n",
       "      <td>7.2</td>\n",
       "      <td>7.2</td>\n",
       "      <td>5.0</td>\n",
       "    </tr>\n",
       "    <tr>\n",
       "      <th>4</th>\n",
       "      <td></td>\n",
       "      <td>0.6</td>\n",
       "      <td>0</td>\n",
       "      <td>0</td>\n",
       "      <td>2.4</td>\n",
       "      <td>\\textbf{{5.7}}</td>\n",
       "      <td>1.8</td>\n",
       "      <td>2.6</td>\n",
       "      <td>1.3</td>\n",
       "    </tr>\n",
       "    <tr>\n",
       "      <th>5</th>\n",
       "      <td></td>\n",
       "      <td>0.7</td>\n",
       "      <td>0</td>\n",
       "      <td>0</td>\n",
       "      <td>0.6</td>\n",
       "      <td>\\textbf{{2.0}}</td>\n",
       "      <td>0</td>\n",
       "      <td>0.2</td>\n",
       "      <td>0</td>\n",
       "    </tr>\n",
       "  </tbody>\n",
       "</table>\n",
       "</div>"
      ],
      "text/plain": [
       "Model     Partition Tanimoto Cutoff hCAII Train              CFG   CG  \\\n",
       "0      Binding Hits             0.5        99.6  \\textbf{{42.7}}  5.6   \n",
       "1                               0.6        75.7  \\textbf{{15.3}}  0.9   \n",
       "2                               0.7        28.6   \\textbf{{4.3}}  0.1   \n",
       "3       Public Hits             0.5         0.6              1.1  6.1   \n",
       "4                               0.6           0                0  2.4   \n",
       "5                               0.7           0                0  0.6   \n",
       "\n",
       "Model  CG w/ Joint QED Genetic Genetic w/ QED Cutoff Genetic w/ Joint QED  \n",
       "0                 10.9     0.9                   1.4                  1.5  \n",
       "1                  2.1     0.1                   0.2                  0.2  \n",
       "2                  0.3       0                     0                    0  \n",
       "3      \\textbf{{15.1}}     7.2                   7.2                  5.0  \n",
       "4       \\textbf{{5.7}}     1.8                   2.6                  1.3  \n",
       "5       \\textbf{{2.0}}       0                   0.2                    0  "
      ]
     },
     "execution_count": 16,
     "metadata": {},
     "output_type": "execute_result"
    }
   ],
   "source": [
    "result_data = pd.DataFrame(result_recs)\n",
    "\n",
    "\n",
    "\n",
    "do_10k_instead_of_50k = False\n",
    "\n",
    "if do_10k_instead_of_50k:\n",
    "    print(set(result_data['model_name']))\n",
    "    model_renames = {m: m.split('_10k')[0] for m in set(result_data['model_name']) if m.endswith('_10k')}\n",
    "    print(model_renames)\n",
    "    result_data = result_data[\n",
    "        result_data['model_name'].isin(set(model_renames))\n",
    "    ]\n",
    "    result_data['model_name'] = result_data['model_name'].map(model_renames)\n",
    "\n",
    "    print(set(result_data['model_name']))\n",
    "\n",
    "\n",
    "\n",
    "\n",
    "tc_col = 'Tanimoto Cutoff'\n",
    "model_col = 'Model'\n",
    "partition_col = 'Partition'\n",
    "neigh_col = 'Neighbors'\n",
    "cov_col = 'test_coverage'\n",
    "\n",
    "result_data = result_data.rename(columns={\n",
    "    'tanimoto_cutoff': tc_col,\n",
    "    'model_name': model_col,\n",
    "    'test_name': partition_col,\n",
    "    'gt_n_neighbors': neigh_col,\n",
    "})\n",
    "\n",
    "# cutoffs = [0.4, 0.5, 0.6, 0.7, 0.8, 0.9, 1]\n",
    "cutoffs = [0.5, 0.6, 0.7]\n",
    "# Filter data based on valid tuples\n",
    "filtered_data = result_data[\n",
    "    (\n",
    "    ((result_data[partition_col] == 'walters') & (result_data[tc_col].isin(cutoffs)))\n",
    "    | ((result_data[partition_col] == 'test') & (result_data[tc_col].isin(cutoffs)))\n",
    "    )\n",
    "    & (result_data[neigh_col] == 1)\n",
    "    & (~result_data[model_col].isin(['Genetic B','test', 'CG-PG', 'CG-20-QED', 'test_10k',\n",
    "                                     'CG-PG_10k', 'Genetic B_10k',\n",
    "                                     'dflow_high_dec_high_10k','dflow_higher_dec_low_10k','dflow_low_dec_10k','dflow_low_dec_low_10k','single_opt_high_10k','single_opt_high']))\n",
    "#     & (result_data[model_col].isin(['CFG 250m', 'CG 250m',  'Genetic 1', 'Genetic 4', 'Genetic 5', 'Genetic 7']))\n",
    "].sort_values(model_col)\n",
    "\n",
    "filtered_data[partition_col] = filtered_data[partition_col].map({\n",
    "    'test': 'Binding Hits',\n",
    "    'walters': 'Public Hits'\n",
    "})\n",
    "model_renames = {\n",
    "        'train': 'hCAII Train',\n",
    "        'CFG-50k': 'CFG',\n",
    "        'CG-20-50k': 'CG',\n",
    "        'QED-and-CG-20': 'CG w/ Joint QED',\n",
    "        'Genetic A': 'Genetic',\n",
    "        'Genetic C': 'Genetic w/ QED Cutoff',\n",
    "        'Genetic D': 'Genetic w/ Joint QED',\n",
    "    }\n",
    "filtered_data[model_col] = filtered_data[model_col].map(\n",
    "    { k: (model_renames[k] if k in model_renames else k) for k in set(filtered_data[model_col])\n",
    "        \n",
    "    }\n",
    ")\n",
    "\n",
    "filtered_data[tc_col] = filtered_data[tc_col].apply(lambda x: str(x))\n",
    "filtered_data[cov_col] = filtered_data[cov_col].apply(lambda x: round(100*x, 1))\n",
    "\n",
    "\n",
    "percision = 1\n",
    "\n",
    "def mean_std(x):\n",
    "    mean = x.mean()\n",
    "    std = x.std()\n",
    "    if mean == 0 and std == 0:\n",
    "        return '0'\n",
    "    elif np.isnan(std):\n",
    "        return f'{mean:.1f}'\n",
    "    return f'{mean:.1f} $\\\\pm$ {std:.1f}'\n",
    "\n",
    "table = filtered_data.pivot_table(\n",
    "    index=[partition_col, tc_col],\n",
    "    columns=[model_col],\n",
    "    values=\"test_coverage\",\n",
    "    aggfunc=mean_std  # Use the custom aggregation function\n",
    ")\n",
    "\n",
    "def apply_latex_formatting(df):\n",
    "    for row in df.index:\n",
    "        \n",
    "        \n",
    "        best_val = max([float(df.at[row, col].split(' $\\\\pm$ ')[0]) for col in df.columns if col!='hCAII Train'])\n",
    "\n",
    "        for col in df.columns:\n",
    "            if col in [partition_col, tc_col]:\n",
    "                continue\n",
    "            value = df.at[row, col]\n",
    "            _val = float(value.split(\" $\\\\pm$ \")[0])\n",
    "\n",
    "            if \"\\\\pm\" in value:  # Check if the cell contains the mean ± std format\n",
    "                mean, std = value.split(\" $\\\\pm$ \")\n",
    "                mean = float(mean)\n",
    "                # Update the formatting logic as per your requirements\n",
    "                if mean == 0:\n",
    "                    df.at[row, col] = '0'\n",
    "                else:\n",
    "                    df.at[row, col] = f'{mean:.1f} $\\\\pm$ {std}'  # Include std in the formatting\n",
    "                    if _val == best_val:\n",
    "                        df.at[row, col] = '\\\\textbf{{' + df.at[row, col] + '}}'\n",
    "\n",
    "                    \n",
    "            else:\n",
    "\n",
    "                if float(value)==0:\n",
    "                    df.at[row, col] = '0'\n",
    "                elif float(value) == best_val:\n",
    "                    df.at[row, col] = '\\\\textbf{{' + df.at[row, col] + '}}'\n",
    "                else:\n",
    "                    df.at[row, col] = f'{value}'\n",
    "    return df\n",
    "\n",
    "ordered_cols = list(\n",
    "    c\n",
    "    for c in list(model_renames.values()) + [c for c in sorted(list(table.columns)) if c not in model_renames.values()]\n",
    "    if c in table\n",
    ")\n",
    "print(ordered_cols)\n",
    "table = table[ordered_cols]\n",
    "\n",
    "\n",
    "# Apply the updated formatting function to the table DataFrame\n",
    "formatted_table = apply_latex_formatting(table.copy())\n",
    "\n",
    "formatted_table = formatted_table.reset_index().sort_values(by=partition_col)\n",
    "formatted_table[partition_col] = formatted_table[partition_col].where(\n",
    "    formatted_table[partition_col] != formatted_table[partition_col].shift(),\n",
    "    ''\n",
    ")\n",
    "formatted_table.index.name=None\n",
    "formatted_table"
   ]
  }
 ],
 "metadata": {
  "kernelspec": {
   "display_name": "Python 3 (ipykernel)",
   "language": "python",
   "name": "python3"
  },
  "language_info": {
   "codemirror_mode": {
    "name": "ipython",
    "version": 3
   },
   "file_extension": ".py",
   "mimetype": "text/x-python",
   "name": "python",
   "nbconvert_exporter": "python",
   "pygments_lexer": "ipython3",
   "version": "3.10.14"
  }
 },
 "nbformat": 4,
 "nbformat_minor": 4
}
